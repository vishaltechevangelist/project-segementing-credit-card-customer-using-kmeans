{
 "cells": [
  {
   "cell_type": "markdown",
   "id": "ea52b326",
   "metadata": {},
   "source": [
    "# Credit Card Customer Segementation Using K-means"
   ]
  },
  {
   "cell_type": "markdown",
   "id": "d8970761",
   "metadata": {},
   "source": [
    "## Import libraries"
   ]
  },
  {
   "cell_type": "code",
   "execution_count": 1,
   "id": "8fe966b9",
   "metadata": {},
   "outputs": [],
   "source": [
    "import pandas as pd "
   ]
  },
  {
   "cell_type": "markdown",
   "id": "1c2ba46d",
   "metadata": {},
   "source": [
    "## Load the dataset"
   ]
  },
  {
   "cell_type": "code",
   "execution_count": 2,
   "id": "bb578a5b",
   "metadata": {},
   "outputs": [
    {
     "name": "stdout",
     "output_type": "stream",
     "text": [
      "<class 'pandas.core.frame.DataFrame'>\n",
      "RangeIndex: 500 entries, 0 to 499\n",
      "Data columns (total 14 columns):\n",
      " #   Column                    Non-Null Count  Dtype  \n",
      "---  ------                    --------------  -----  \n",
      " 0   customer_Id               500 non-null    object \n",
      " 1   age                       500 non-null    int64  \n",
      " 2   gender                    500 non-null    object \n",
      " 3   dependent_count           500 non-null    int64  \n",
      " 4   education_level           500 non-null    object \n",
      " 5   marital_status            500 non-null    object \n",
      " 6   estimated_income          500 non-null    int64  \n",
      " 7   months_on_book            500 non-null    int64  \n",
      " 8   total_relationship_count  500 non-null    int64  \n",
      " 9   months_inactive_12_mon    500 non-null    int64  \n",
      " 10  credit_limit              500 non-null    int64  \n",
      " 11  total_trans_amount        500 non-null    int64  \n",
      " 12  total_trans_count         500 non-null    int64  \n",
      " 13  avg_utilization_ration    500 non-null    float64\n",
      "dtypes: float64(1), int64(9), object(4)\n",
      "memory usage: 54.8+ KB\n"
     ]
    }
   ],
   "source": [
    "df = pd.read_csv('customer_segmentation_credit.csv')\n",
    "df.info()"
   ]
  },
  {
   "cell_type": "markdown",
   "id": "4240189f",
   "metadata": {},
   "source": [
    "## value count analysis of categorical feature"
   ]
  },
  {
   "cell_type": "code",
   "execution_count": 3,
   "id": "44b34371",
   "metadata": {},
   "outputs": [
    {
     "data": {
      "text/plain": [
       "gender\n",
       "Male      263\n",
       "Female    237\n",
       "Name: count, dtype: int64"
      ]
     },
     "execution_count": 3,
     "metadata": {},
     "output_type": "execute_result"
    }
   ],
   "source": [
    "df['gender'].value_counts()"
   ]
  },
  {
   "cell_type": "code",
   "execution_count": 4,
   "id": "73df4950",
   "metadata": {},
   "outputs": [
    {
     "data": {
      "text/plain": [
       "marital_status\n",
       "Married     172\n",
       "Single      171\n",
       "Divorced    157\n",
       "Name: count, dtype: int64"
      ]
     },
     "execution_count": 4,
     "metadata": {},
     "output_type": "execute_result"
    }
   ],
   "source": [
    "df['marital_status'].value_counts()"
   ]
  },
  {
   "cell_type": "code",
   "execution_count": 5,
   "id": "10add2c7",
   "metadata": {},
   "outputs": [
    {
     "data": {
      "text/plain": [
       "education_level\n",
       "High School      132\n",
       "Post-Graduate    130\n",
       "Graduate         128\n",
       "Doctorate        110\n",
       "Name: count, dtype: int64"
      ]
     },
     "execution_count": 5,
     "metadata": {},
     "output_type": "execute_result"
    }
   ],
   "source": [
    "df['education_level'].value_counts()"
   ]
  },
  {
   "cell_type": "markdown",
   "id": "adb6b501",
   "metadata": {},
   "source": [
    "## Statistical analysis of numerical feature"
   ]
  },
  {
   "cell_type": "code",
   "execution_count": 6,
   "id": "ecc1a56f",
   "metadata": {},
   "outputs": [
    {
     "data": {
      "text/html": [
       "<div>\n",
       "<style scoped>\n",
       "    .dataframe tbody tr th:only-of-type {\n",
       "        vertical-align: middle;\n",
       "    }\n",
       "\n",
       "    .dataframe tbody tr th {\n",
       "        vertical-align: top;\n",
       "    }\n",
       "\n",
       "    .dataframe thead th {\n",
       "        text-align: right;\n",
       "    }\n",
       "</style>\n",
       "<table border=\"1\" class=\"dataframe\">\n",
       "  <thead>\n",
       "    <tr style=\"text-align: right;\">\n",
       "      <th></th>\n",
       "      <th>age</th>\n",
       "      <th>dependent_count</th>\n",
       "      <th>estimated_income</th>\n",
       "      <th>months_on_book</th>\n",
       "      <th>total_relationship_count</th>\n",
       "      <th>months_inactive_12_mon</th>\n",
       "      <th>credit_limit</th>\n",
       "      <th>total_trans_amount</th>\n",
       "      <th>total_trans_count</th>\n",
       "      <th>avg_utilization_ration</th>\n",
       "    </tr>\n",
       "  </thead>\n",
       "  <tbody>\n",
       "    <tr>\n",
       "      <th>count</th>\n",
       "      <td>500.000000</td>\n",
       "      <td>500.000000</td>\n",
       "      <td>500.000000</td>\n",
       "      <td>500.000000</td>\n",
       "      <td>500.000000</td>\n",
       "      <td>500.00000</td>\n",
       "      <td>500.000000</td>\n",
       "      <td>500.000000</td>\n",
       "      <td>500.000000</td>\n",
       "      <td>500.000000</td>\n",
       "    </tr>\n",
       "    <tr>\n",
       "      <th>mean</th>\n",
       "      <td>45.678000</td>\n",
       "      <td>1.438000</td>\n",
       "      <td>115287.900000</td>\n",
       "      <td>32.536000</td>\n",
       "      <td>3.070000</td>\n",
       "      <td>2.47000</td>\n",
       "      <td>24871.106000</td>\n",
       "      <td>10274.756000</td>\n",
       "      <td>82.016000</td>\n",
       "      <td>0.458780</td>\n",
       "    </tr>\n",
       "    <tr>\n",
       "      <th>std</th>\n",
       "      <td>14.127898</td>\n",
       "      <td>1.093869</td>\n",
       "      <td>50043.015132</td>\n",
       "      <td>15.266133</td>\n",
       "      <td>1.418847</td>\n",
       "      <td>1.70849</td>\n",
       "      <td>13726.027672</td>\n",
       "      <td>5830.196484</td>\n",
       "      <td>40.779918</td>\n",
       "      <td>0.239343</td>\n",
       "    </tr>\n",
       "    <tr>\n",
       "      <th>min</th>\n",
       "      <td>21.000000</td>\n",
       "      <td>0.000000</td>\n",
       "      <td>30163.000000</td>\n",
       "      <td>6.000000</td>\n",
       "      <td>1.000000</td>\n",
       "      <td>0.00000</td>\n",
       "      <td>1082.000000</td>\n",
       "      <td>553.000000</td>\n",
       "      <td>10.000000</td>\n",
       "      <td>0.050000</td>\n",
       "    </tr>\n",
       "    <tr>\n",
       "      <th>25%</th>\n",
       "      <td>34.000000</td>\n",
       "      <td>0.000000</td>\n",
       "      <td>69068.750000</td>\n",
       "      <td>20.000000</td>\n",
       "      <td>2.000000</td>\n",
       "      <td>1.00000</td>\n",
       "      <td>13586.750000</td>\n",
       "      <td>4811.000000</td>\n",
       "      <td>45.750000</td>\n",
       "      <td>0.250000</td>\n",
       "    </tr>\n",
       "    <tr>\n",
       "      <th>50%</th>\n",
       "      <td>46.000000</td>\n",
       "      <td>1.000000</td>\n",
       "      <td>118106.500000</td>\n",
       "      <td>32.000000</td>\n",
       "      <td>3.000000</td>\n",
       "      <td>3.00000</td>\n",
       "      <td>24600.000000</td>\n",
       "      <td>11147.500000</td>\n",
       "      <td>84.000000</td>\n",
       "      <td>0.470000</td>\n",
       "    </tr>\n",
       "    <tr>\n",
       "      <th>75%</th>\n",
       "      <td>57.000000</td>\n",
       "      <td>2.000000</td>\n",
       "      <td>157753.000000</td>\n",
       "      <td>46.000000</td>\n",
       "      <td>4.000000</td>\n",
       "      <td>4.00000</td>\n",
       "      <td>36520.500000</td>\n",
       "      <td>15191.000000</td>\n",
       "      <td>118.000000</td>\n",
       "      <td>0.640000</td>\n",
       "    </tr>\n",
       "    <tr>\n",
       "      <th>max</th>\n",
       "      <td>69.000000</td>\n",
       "      <td>3.000000</td>\n",
       "      <td>198918.000000</td>\n",
       "      <td>59.000000</td>\n",
       "      <td>5.000000</td>\n",
       "      <td>5.00000</td>\n",
       "      <td>49692.000000</td>\n",
       "      <td>19993.000000</td>\n",
       "      <td>149.000000</td>\n",
       "      <td>0.900000</td>\n",
       "    </tr>\n",
       "  </tbody>\n",
       "</table>\n",
       "</div>"
      ],
      "text/plain": [
       "              age  dependent_count  estimated_income  months_on_book  \\\n",
       "count  500.000000       500.000000        500.000000      500.000000   \n",
       "mean    45.678000         1.438000     115287.900000       32.536000   \n",
       "std     14.127898         1.093869      50043.015132       15.266133   \n",
       "min     21.000000         0.000000      30163.000000        6.000000   \n",
       "25%     34.000000         0.000000      69068.750000       20.000000   \n",
       "50%     46.000000         1.000000     118106.500000       32.000000   \n",
       "75%     57.000000         2.000000     157753.000000       46.000000   \n",
       "max     69.000000         3.000000     198918.000000       59.000000   \n",
       "\n",
       "       total_relationship_count  months_inactive_12_mon  credit_limit  \\\n",
       "count                500.000000               500.00000    500.000000   \n",
       "mean                   3.070000                 2.47000  24871.106000   \n",
       "std                    1.418847                 1.70849  13726.027672   \n",
       "min                    1.000000                 0.00000   1082.000000   \n",
       "25%                    2.000000                 1.00000  13586.750000   \n",
       "50%                    3.000000                 3.00000  24600.000000   \n",
       "75%                    4.000000                 4.00000  36520.500000   \n",
       "max                    5.000000                 5.00000  49692.000000   \n",
       "\n",
       "       total_trans_amount  total_trans_count  avg_utilization_ration  \n",
       "count          500.000000         500.000000              500.000000  \n",
       "mean         10274.756000          82.016000                0.458780  \n",
       "std           5830.196484          40.779918                0.239343  \n",
       "min            553.000000          10.000000                0.050000  \n",
       "25%           4811.000000          45.750000                0.250000  \n",
       "50%          11147.500000          84.000000                0.470000  \n",
       "75%          15191.000000         118.000000                0.640000  \n",
       "max          19993.000000         149.000000                0.900000  "
      ]
     },
     "execution_count": 6,
     "metadata": {},
     "output_type": "execute_result"
    }
   ],
   "source": [
    "df.describe()"
   ]
  },
  {
   "cell_type": "markdown",
   "id": "5dd7275a",
   "metadata": {},
   "source": [
    "## Visualization of dataframe"
   ]
  },
  {
   "cell_type": "code",
   "execution_count": 7,
   "id": "f0fb81f0",
   "metadata": {},
   "outputs": [
    {
     "data": {
      "text/plain": [
       "array([[<Axes: title={'center': 'age'}>,\n",
       "        <Axes: title={'center': 'dependent_count'}>,\n",
       "        <Axes: title={'center': 'estimated_income'}>],\n",
       "       [<Axes: title={'center': 'months_on_book'}>,\n",
       "        <Axes: title={'center': 'total_relationship_count'}>,\n",
       "        <Axes: title={'center': 'months_inactive_12_mon'}>],\n",
       "       [<Axes: title={'center': 'credit_limit'}>,\n",
       "        <Axes: title={'center': 'total_trans_amount'}>,\n",
       "        <Axes: title={'center': 'total_trans_count'}>],\n",
       "       [<Axes: title={'center': 'avg_utilization_ration'}>, <Axes: >,\n",
       "        <Axes: >]], dtype=object)"
      ]
     },
     "execution_count": 7,
     "metadata": {},
     "output_type": "execute_result"
    },
    {
     "data": {
      "image/png": "[encoded data removed]",
      "text/plain": [
       "<Figure size 640x480 with 12 Axes>"
      ]
     },
     "metadata": {},
     "output_type": "display_data"
    }
   ],
   "source": [
    "df.hist()"
   ]
  },
  {
   "cell_type": "code",
   "execution_count": null,
   "id": "20268155",
   "metadata": {},
   "outputs": [],
   "source": []
  }
 ],
 "metadata": {
  "kernelspec": {
   "display_name": "ds_env",
   "language": "python",
   "name": "ds_env"
  },
  "language_info": {
   "codemirror_mode": {
    "name": "ipython",
    "version": 3
   },
   "file_extension": ".py",
   "mimetype": "text/x-python",
   "name": "python",
   "nbconvert_exporter": "python",
   "pygments_lexer": "ipython3",
   "version": "3.12.2"
  },
  "toc": {
   "base_numbering": 1,
   "nav_menu": {},
   "number_sections": true,
   "sideBar": true,
   "skip_h1_title": true,
   "title_cell": "Table of Contents",
   "title_sidebar": "Contents",
   "toc_cell": false,
   "toc_position": {
    "height": "calc(100% - 180px)",
    "left": "10px",
    "top": "150px",
    "width": "302.390625px"
   },
   "toc_section_display": true,
   "toc_window_display": true
  }
 },
 "nbformat": 4,
 "nbformat_minor": 5
}
